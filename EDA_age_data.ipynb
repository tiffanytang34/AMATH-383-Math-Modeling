{
  "nbformat": 4,
  "nbformat_minor": 0,
  "metadata": {
    "colab": {
      "name": "EDA_age_data.ipynb",
      "provenance": [],
      "collapsed_sections": [],
      "mount_file_id": "1xtZxUwBrFQLpTkPKagwVpbRaJUTqORf8",
      "authorship_tag": "ABX9TyMbQvg6jCaksfO1aATBmlba",
      "include_colab_link": true
    },
    "kernelspec": {
      "name": "python3",
      "display_name": "Python 3"
    },
    "language_info": {
      "name": "python"
    }
  },
  "cells": [
    {
      "cell_type": "markdown",
      "metadata": {
        "id": "view-in-github",
        "colab_type": "text"
      },
      "source": [
        "<a href=\"https://colab.research.google.com/github/tiffanytang34/AMATH-383-Math-Modeling-on-COVID-19/blob/main/EDA_age_data.ipynb\" target=\"_parent\"><img src=\"https://colab.research.google.com/assets/colab-badge.svg\" alt=\"Open In Colab\"/></a>"
      ]
    },
    {
      "cell_type": "code",
      "execution_count": 1,
      "metadata": {
        "id": "-gYZw7SEm25V"
      },
      "outputs": [],
      "source": [
        "# Imports\n",
        "\n",
        "from zipfile import ZipFile\n",
        "import os\n",
        "import shutil\n",
        "import numpy as np\n",
        "import pandas as pd\n",
        "import matplotlib.pyplot as plt\n",
        "import seaborn as sns\n",
        "import cv2"
      ]
    },
    {
      "cell_type": "markdown",
      "source": [
        "Exploratory Data Analysis"
      ],
      "metadata": {
        "id": "z4J382BEnMaq"
      }
    },
    {
      "cell_type": "markdown",
      "source": [
        "### *facial-age* dataset (9,778 images)"
      ],
      "metadata": {
        "id": "GQq7SWSyrLL4"
      }
    },
    {
      "cell_type": "code",
      "source": [
        "# Unzipping the dataset file facial-age.zip\n",
        "\n",
        "#!unzip facial-age.zip\n",
        "facial_age_zip_path = \"/content/drive/My Drive/Age_Detection/facial-age.zip\"\n",
        "\n",
        "with ZipFile(facial_age_zip_path, 'r') as myzip:\n",
        "    myzip.extractall()\n",
        "    print('Done unzipping facial-age.zip')"
      ],
      "metadata": {
        "colab": {
          "base_uri": "https://localhost:8080/"
        },
        "id": "X5XIqbLEnJJd",
        "outputId": "5b747ee3-78d6-464b-fa87-ff6781991983"
      },
      "execution_count": 2,
      "outputs": [
        {
          "output_type": "stream",
          "name": "stdout",
          "text": [
            "Done unzipping facial-age.zip\n"
          ]
        }
      ]
    },
    {
      "cell_type": "markdown",
      "source": [
        "***facial-age* dataset** contains **9,778 RGB images of faces** in **PNG** format of size **200x200 pixels** each. The images are separated into folders where the **folder names correspond to the age labels of images inside those folders**."
      ],
      "metadata": {
        "id": "GTUIrIbts-WD"
      }
    },
    {
      "cell_type": "code",
      "source": [
        "# Accessing all folder names to get list of labels.\n",
        "\n",
        "facial_age_path = \"facial-age\"\n",
        "facial_age_folders = os.listdir(facial_age_path)"
      ],
      "metadata": {
        "id": "HIXvuo9BqgRE"
      },
      "execution_count": 3,
      "outputs": []
    },
    {
      "cell_type": "code",
      "source": [
        "# Sorting the folder names (age labels) in ascending order.\n",
        "\n",
        "facial_age_folders = np.sort(facial_age_folders)\n",
        "facial_age_folders"
      ],
      "metadata": {
        "colab": {
          "base_uri": "https://localhost:8080/"
        },
        "id": "1ePlay9ntH3Q",
        "outputId": "e45aeb57-f3a5-4934-e965-61f2d0178250"
      },
      "execution_count": 4,
      "outputs": [
        {
          "output_type": "execute_result",
          "data": {
            "text/plain": [
              "array(['001', '002', '003', '004', '005', '006', '007', '008', '009',\n",
              "       '010', '011', '012', '013', '014', '015', '016', '017', '018',\n",
              "       '019', '020', '021', '022', '023', '024', '025', '026', '027',\n",
              "       '028', '029', '030', '031', '032', '033', '034', '035', '036',\n",
              "       '037', '038', '039', '040', '041', '042', '043', '044', '045',\n",
              "       '046', '047', '048', '049', '050', '051', '052', '053', '054',\n",
              "       '055', '056', '057', '058', '059', '060', '061', '062', '063',\n",
              "       '064', '065', '066', '067', '068', '069', '070', '071', '072',\n",
              "       '073', '074', '075', '076', '077', '078', '079', '080', '081',\n",
              "       '082', '083', '084', '085', '086', '087', '088', '089', '090',\n",
              "       '091', '092', '093', '095', '096', '099', '100', '101', '110'],\n",
              "      dtype='<U3')"
            ]
          },
          "metadata": {},
          "execution_count": 4
        }
      ]
    },
    {
      "cell_type": "markdown",
      "source": [
        " Access the images in the folder and store the info inside a dictionary which has age labels as keys and number of images of certain ages as values. "
      ],
      "metadata": {
        "id": "kachGVdj21mH"
      }
    },
    {
      "cell_type": "code",
      "source": [
        "facial_age_images = {}\n",
        "\n",
        "for age in facial_age_folders:\n",
        "    temp_path = os.path.join(facial_age_path, age)\n",
        "    n_images = len(os.listdir(temp_path))\n",
        "    facial_age_images[int(age)] = n_images"
      ],
      "metadata": {
        "id": "kZlzCLDstmAD"
      },
      "execution_count": 5,
      "outputs": []
    },
    {
      "cell_type": "markdown",
      "source": [
        "### *UTKFace* dataset (23,708 images)"
      ],
      "metadata": {
        "id": "zW7e4kJh3d2W"
      }
    },
    {
      "cell_type": "code",
      "source": [
        "# Unzipping the dataset file UTKFace.zip\n",
        "\n",
        "utkface_zip_path = \"/content/drive/My Drive/Age_Detection/UTKFace.zip\"\n",
        "\n",
        "with ZipFile(utkface_zip_path, 'r') as myzip:\n",
        "    myzip.extractall()\n",
        "    print('Done unzipping UTKFace.zip')"
      ],
      "metadata": {
        "colab": {
          "base_uri": "https://localhost:8080/"
        },
        "id": "pcu0pC743ebH",
        "outputId": "6052d138-5108-4976-dc8b-e98c6215a443"
      },
      "execution_count": 6,
      "outputs": [
        {
          "output_type": "stream",
          "name": "stdout",
          "text": [
            "Done unzipping UTKFace.zip\n"
          ]
        }
      ]
    },
    {
      "cell_type": "markdown",
      "source": [
        "***UTKFace* dataset** contains **23,708 RGB images of faces** in **JPG** format of size **200x200 pixels** each. The **labels of images are embedded in the file names, formatted like *\\[age]\\_\\[gender]\\_\\[race]\\_\\[date&time].jpg***."
      ],
      "metadata": {
        "id": "OUHTOReK4DyH"
      }
    },
    {
      "cell_type": "code",
      "source": [
        "# Accessing all image file names so as to be able to separate the age labels.\n",
        "\n",
        "utkface_path = '/content/UTKFace'\n",
        "utkface_image_names = os.listdir(utkface_path)"
      ],
      "metadata": {
        "id": "DmEngIz-4ElG"
      },
      "execution_count": 7,
      "outputs": []
    },
    {
      "cell_type": "code",
      "source": [
        "# Defining a function to generate the labels from the image file names according to the format given above.\n",
        "\n",
        "def age_gender_race_split(image_name):\n",
        "    image_labels = image_name.split('_')\n",
        "    age = image_labels[0]\n",
        "    gender = image_labels[1]\n",
        "    race = image_labels[2]\n",
        "\n",
        "    return (age, gender, race)"
      ],
      "metadata": {
        "id": "0tfl4EBD4c4o"
      },
      "execution_count": 8,
      "outputs": []
    },
    {
      "cell_type": "code",
      "source": [
        "# Applying the above function on each image file name using a for loop and storing the labels in relevant arrays.\n",
        "\n",
        "utkface_age_labels = np.array([])\n",
        "utkface_gender_labels = np.array([])\n",
        "utkface_race_labels = np.array([])\n",
        "\n",
        "for image in utkface_image_names:\n",
        "    age, gender, race = age_gender_race_split(image)\n",
        "    utkface_age_labels = np.append(utkface_age_labels, age)\n",
        "    utkface_gender_labels = np.append(utkface_gender_labels, gender)\n",
        "    utkface_race_labels = np.append(utkface_race_labels, race)"
      ],
      "metadata": {
        "id": "_GFHuha94nMJ"
      },
      "execution_count": 9,
      "outputs": []
    },
    {
      "cell_type": "code",
      "source": [
        "# Grouping by the age labels and checking the no. of images per age label.\n",
        "\n",
        "utkface_ages_counts = pd.Series(utkface_age_labels).value_counts()\n",
        "utkface_ages_counts"
      ],
      "metadata": {
        "colab": {
          "base_uri": "https://localhost:8080/"
        },
        "id": "7_SiRERQ4qAo",
        "outputId": "3e6502f3-d435-4fc7-99da-7da8c404c59b"
      },
      "execution_count": 10,
      "outputs": [
        {
          "output_type": "execute_result",
          "data": {
            "text/plain": [
              "26     2197\n",
              "1      1123\n",
              "28      918\n",
              "35      880\n",
              "24      859\n",
              "       ... \n",
              "115       3\n",
              "91        2\n",
              "101       2\n",
              "103       1\n",
              "111       1\n",
              "Length: 104, dtype: int64"
            ]
          },
          "metadata": {},
          "execution_count": 10
        }
      ]
    },
    {
      "cell_type": "code",
      "source": [
        ""
      ],
      "metadata": {
        "id": "nFbIXETv45O7"
      },
      "execution_count": null,
      "outputs": []
    }
  ]
}